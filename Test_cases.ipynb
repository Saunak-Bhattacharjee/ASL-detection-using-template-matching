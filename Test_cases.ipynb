{
 "cells": [
  {
   "cell_type": "code",
   "execution_count": 1,
   "id": "ffed1384-be2a-4188-bb86-cb5628346371",
   "metadata": {},
   "outputs": [],
   "source": [
    "import cv2\n",
    "import os\n",
    "import numpy as np"
   ]
  },
  {
   "cell_type": "code",
   "execution_count": 2,
   "id": "9b5c1e89-2f72-44fa-8186-fce4e955d474",
   "metadata": {},
   "outputs": [],
   "source": [
    "def load_templates(directory=\"cropped_captured_templates\"):\n",
    "    templates = {}\n",
    "    for filename in os.listdir(directory):\n",
    "        if filename.endswith(\".jpg\"):  # make sure to match your file extension\n",
    "            name = filename.split('.')[0]\n",
    "            img_path = os.path.join(directory, filename)\n",
    "            template = cv2.imread(img_path, cv2.IMREAD_GRAYSCALE)\n",
    "            templates[name] = template\n",
    "    return templates\n",
    "\n",
    "templates = load_templates()"
   ]
  },
  {
   "cell_type": "code",
   "execution_count": 3,
   "id": "e94560b6-4a5e-426e-a853-ecc047f30f64",
   "metadata": {},
   "outputs": [],
   "source": [
    "def find_best_match(frame, templates):\n",
    "    gray_frame = cv2.cvtColor(frame, cv2.COLOR_BGR2GRAY)\n",
    "    best_score = 0\n",
    "    best_name = None\n",
    "    best_loc = None\n",
    "    template_size = (0, 0)  \n",
    "\n",
    "    for name, template in templates.items():\n",
    "        res = cv2.matchTemplate(gray_frame, template, cv2.TM_CCOEFF_NORMED)\n",
    "        min_val, max_val, min_loc, max_loc = cv2.minMaxLoc(res)\n",
    "        if max_val > best_score:\n",
    "            best_score = max_val\n",
    "            best_name = name\n",
    "            best_loc = max_loc\n",
    "            template_size = template.shape[::-1]  \n",
    "\n",
    "    return best_name, best_score, best_loc, template_size"
   ]
  },
  {
   "cell_type": "code",
   "execution_count": 101,
   "id": "79d1a753-a04a-4d05-9091-b52e605f3bcf",
   "metadata": {},
   "outputs": [],
   "source": [
    "def calculate_orientation(contour):\n",
    "\n",
    "    if len(contour) < 5:\n",
    "        return 0\n",
    "    (x, y), (MA, ma), angle = cv2.fitEllipse(contour)\n",
    "    return angle"
   ]
  },
  {
   "cell_type": "code",
   "execution_count": 122,
   "id": "3b766e43-8a14-4e88-8727-8aec0bfa6c7b",
   "metadata": {},
   "outputs": [],
   "source": [
    "templates = load_templates()\n",
    "cap = cv2.VideoCapture(0)\n",
    "frame_history = []\n",
    "capture_counter = 0"
   ]
  },
  {
   "cell_type": "code",
   "execution_count": 123,
   "id": "cec92ae0-beae-48d7-951a-6b5d3389dc1e",
   "metadata": {},
   "outputs": [],
   "source": [
    "test_cases_directory = \"test_cases\"\n",
    "if not os.path.exists(test_cases_directory):\n",
    "    os.makedirs(test_cases_directory)"
   ]
  },
  {
   "cell_type": "code",
   "execution_count": 124,
   "id": "930ff790-f4e1-452a-91ec-56d736652aec",
   "metadata": {},
   "outputs": [
    {
     "name": "stdout",
     "output_type": "stream",
     "text": [
      "Press 's' to capture a frame, 'q' to quit.\n"
     ]
    }
   ],
   "source": [
    "print(\"Press 's' to capture a frame, 'q' to quit.\")"
   ]
  },
  {
   "cell_type": "code",
   "execution_count": 125,
   "id": "a414772e-543d-4277-b9d2-72d9ac119c0a",
   "metadata": {},
   "outputs": [
    {
     "name": "stdout",
     "output_type": "stream",
     "text": [
      "Frame captured and saved as test_cases\\captured_frame_0.jpg.\n",
      "Frame captured and saved as test_cases\\captured_frame_1.jpg.\n",
      "Frame captured and saved as test_cases\\captured_frame_2.jpg.\n",
      "Frame captured and saved as test_cases\\captured_frame_3.jpg.\n",
      "Frame captured and saved as test_cases\\captured_frame_4.jpg.\n"
     ]
    }
   ],
   "source": [
    "while True:\n",
    "    ret, frame = cap.read()\n",
    "    if not ret:\n",
    "        break\n",
    "    \n",
    "    gray_frame = cv2.cvtColor(frame, cv2.COLOR_BGR2GRAY)\n",
    "    \n",
    "    if len(frame_history) > 10:\n",
    "        frame_history.pop(0)\n",
    "    frame_history.append(gray_frame)\n",
    "    \n",
    "    if len(frame_history) == 10:\n",
    "        motion_energy = np.zeros_like(gray_frame)\n",
    "        for i in range(1, 10):\n",
    "            motion_energy += cv2.absdiff(frame_history[i], frame_history[i-1])\n",
    "        motion_energy = cv2.threshold(motion_energy, 50, 255, cv2.THRESH_BINARY)[1]\n",
    "        \n",
    "        contours, _ = cv2.findContours(motion_energy, cv2.RETR_EXTERNAL, cv2.CHAIN_APPROX_SIMPLE)\n",
    "        for contour in contours:\n",
    "            x, y, w, h = cv2.boundingRect(contour)\n",
    "            cv2.rectangle(frame, (x, y), (x+w, y+h), (255, 0, 0), 2)\n",
    "            angle = calculate_orientation(contour)\n",
    "            cv2.putText(frame, f'Angle: {angle:.2f}', (x, y - 10), cv2.FONT_HERSHEY_SIMPLEX, 0.5, (255, 0, 0), 1)\n",
    "    \n",
    "    best_match, score, loc, size = find_best_match(frame, templates)\n",
    "    \n",
    "    if score > 0.7:\n",
    "        top_left = loc\n",
    "        bottom_right = (top_left[0] + size[0], top_left[1] + size[1])\n",
    "        cv2.rectangle(frame, top_left, bottom_right, (0, 255, 0), 2)\n",
    "        cv2.putText(frame, f'Match: {best_match}, Score: {score:.2f}', (10, 50), cv2.FONT_HERSHEY_SIMPLEX, 0.5, (0, 255, 0), 1)\n",
    "    \n",
    "    cv2.imshow(\"Real-time Template Matching\", frame)\n",
    "    \n",
    "    key = cv2.waitKey(1) & 0xFF\n",
    "    if key == ord('s'):\n",
    "        # Capture the current frame\n",
    "        capture_path = os.path.join(test_cases_directory, f\"captured_frame_{capture_counter}.jpg\")\n",
    "        cv2.imwrite(capture_path, frame)\n",
    "        print(f\"Frame captured and saved as {capture_path}.\")\n",
    "        capture_counter += 1\n",
    "    elif key == ord('q'):\n",
    "        break\n",
    "\n",
    "cap.release()\n",
    "cv2.destroyAllWindows()"
   ]
  }
 ],
 "metadata": {
  "kernelspec": {
   "display_name": "Python 3 (ipykernel)",
   "language": "python",
   "name": "python3"
  },
  "language_info": {
   "codemirror_mode": {
    "name": "ipython",
    "version": 3
   },
   "file_extension": ".py",
   "mimetype": "text/x-python",
   "name": "python",
   "nbconvert_exporter": "python",
   "pygments_lexer": "ipython3",
   "version": "3.8.16"
  }
 },
 "nbformat": 4,
 "nbformat_minor": 5
}
