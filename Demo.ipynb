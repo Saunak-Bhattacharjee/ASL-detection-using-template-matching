{
 "cells": [
  {
   "cell_type": "code",
   "execution_count": 1,
   "id": "48809381-8332-4f1f-ad49-1f1b55140b99",
   "metadata": {},
   "outputs": [],
   "source": [
    "import cv2\n",
    "import os"
   ]
  },
  {
   "cell_type": "code",
   "execution_count": 2,
   "id": "897f8af4-76bc-4b02-b053-5fbdb384bc99",
   "metadata": {},
   "outputs": [
    {
     "name": "stdout",
     "output_type": "stream",
     "text": [
      "Press 'd' to detect and save the current letter, 'q' to quit.\n"
     ]
    }
   ],
   "source": [
    "\n",
    "cap = cv2.VideoCapture(0)\n",
    "\n",
    "\n",
    "text_file_path = \"detected_letters.txt\"\n",
    "\n",
    "print(\"Press 'd' to detect and save the current letter, 'q' to quit.\")"
   ]
  },
  {
   "cell_type": "code",
   "execution_count": 3,
   "id": "468e1701-5b0e-4b4d-901a-40c051ccd839",
   "metadata": {},
   "outputs": [],
   "source": [
    "def load_templates(directory=\"cropped_captured_templates\"):\n",
    "    templates = {}\n",
    "    for filename in os.listdir(directory):\n",
    "        if filename.endswith(\".jpg\"):  \n",
    "            name = filename.split('.')[0]\n",
    "            img_path = os.path.join(directory, filename)\n",
    "            template = cv2.imread(img_path, cv2.IMREAD_GRAYSCALE)\n",
    "            templates[name] = template\n",
    "    return templates\n",
    "\n",
    "templates = load_templates()"
   ]
  },
  {
   "cell_type": "code",
   "execution_count": 4,
   "id": "bd726c54-8fc7-4126-a6aa-6c1bd6ba604a",
   "metadata": {},
   "outputs": [],
   "source": [
    "def find_best_match(frame, templates):\n",
    "    gray_frame = cv2.cvtColor(frame, cv2.COLOR_BGR2GRAY)\n",
    "    best_score = 0\n",
    "    best_name = None\n",
    "    best_loc = None\n",
    "    template_size = (0, 0) \n",
    "\n",
    "    for name, template in templates.items():\n",
    "        res = cv2.matchTemplate(gray_frame, template, cv2.TM_CCOEFF_NORMED)\n",
    "        min_val, max_val, min_loc, max_loc = cv2.minMaxLoc(res)\n",
    "        if max_val > best_score:\n",
    "            best_score = max_val\n",
    "            best_name = name\n",
    "            best_loc = max_loc\n",
    "            template_size = template.shape[::-1]  \n",
    "\n",
    "    return best_name, best_score, best_loc, template_size"
   ]
  },
  {
   "cell_type": "code",
   "execution_count": 5,
   "id": "be1094a4-da20-447d-924c-22a64889715a",
   "metadata": {},
   "outputs": [],
   "source": [
    "def calculate_orientation(contour):\n",
    "    if len(contour) < 5:\n",
    "        return 0\n",
    "    (x, y), (MA, ma), angle = cv2.fitEllipse(contour)\n",
    "    return angle"
   ]
  },
  {
   "cell_type": "code",
   "execution_count": 6,
   "id": "ddc7df04-86ff-4c7c-9ad9-25829dcbb06c",
   "metadata": {},
   "outputs": [],
   "source": [
    "templates = load_templates()\n",
    "\n",
    "text_file_path = \"detected_letters.txt\"\n",
    "video_file_path = \"detection_session.mp4\"\n",
    "is_recording = False\n",
    "video_writer = None\n",
    "fourcc = cv2.VideoWriter_fourcc(*'mp4v')"
   ]
  },
  {
   "cell_type": "code",
   "execution_count": 13,
   "id": "d8630227-75ef-4168-8344-9b21a31c3c9c",
   "metadata": {},
   "outputs": [
    {
     "name": "stdout",
     "output_type": "stream",
     "text": [
      "Press 'd' to save the detected letter, 'r' to start/stop recording, 'q' to quit.\n",
      "Started recording.\n",
      "Detected letter 'S' saved.\n",
      "Detected letter 'A' saved.\n",
      "Detected letter 'U' saved.\n",
      "Detected letter 'N' saved.\n",
      "Detected letter 'A' saved.\n",
      "Detected letter 'K' saved.\n",
      "Stopped recording.\n"
     ]
    }
   ],
   "source": [
    "cap = cv2.VideoCapture(0)\n",
    "print(\"Press 'd' to save the detected letter, 'r' to start/stop recording, 'q' to quit.\")\n",
    "\n",
    "while True:\n",
    "    ret, frame = cap.read()\n",
    "    if not ret:\n",
    "        break\n",
    "\n",
    "    gray_frame = cv2.cvtColor(frame, cv2.COLOR_BGR2GRAY)\n",
    "    best_match, score, loc, size = find_best_match(frame, templates)\n",
    "    \n",
    "    if score > 0.7:\n",
    "        top_left = loc\n",
    "        bottom_right = (top_left[0] + size[0], top_left[1] + size[1])\n",
    "        cv2.rectangle(frame, top_left, bottom_right, (0, 255, 0), 2)\n",
    "        cv2.putText(frame, f'Match: {best_match}, Score: {score:.2f}', (10, 50), cv2.FONT_HERSHEY_SIMPLEX, 0.5, (0, 255, 0), 1)\n",
    "\n",
    "    cv2.imshow(\"Real-time Template Matching\", frame)\n",
    "    \n",
    "    key = cv2.waitKey(1) & 0xFF\n",
    "\n",
    "    if key == ord('d') and score > 0.7:\n",
    "        with open(text_file_path, \"a\") as file:\n",
    "            file.write(best_match + \"\\n\")\n",
    "        print(f\"Detected letter '{best_match}' saved.\")\n",
    "\n",
    "    elif key == ord('r'):\n",
    "        if is_recording:\n",
    "            is_recording = False\n",
    "            video_writer.release()\n",
    "            print(\"Stopped recording.\")\n",
    "        else:\n",
    "            is_recording = True\n",
    "            video_writer = cv2.VideoWriter(video_file_path, fourcc, 20.0, (int(cap.get(3)), int(cap.get(4))))\n",
    "            print(\"Started recording.\")\n",
    "\n",
    "    elif key == ord('q'):\n",
    "        break\n",
    "\n",
    "    if is_recording:\n",
    "        video_writer.write(frame)\n",
    "\n",
    "if is_recording:\n",
    "    video_writer.release()\n",
    "cap.release()\n",
    "cv2.destroyAllWindows()"
   ]
  },
  {
   "cell_type": "code",
   "execution_count": null,
   "id": "8fb21538-610c-4a42-a4bc-fe82d6629497",
   "metadata": {},
   "outputs": [],
   "source": []
  },
  {
   "cell_type": "code",
   "execution_count": null,
   "id": "49522bac-4830-460d-8522-b83762c5288c",
   "metadata": {},
   "outputs": [],
   "source": []
  }
 ],
 "metadata": {
  "kernelspec": {
   "display_name": "Python 3 (ipykernel)",
   "language": "python",
   "name": "python3"
  },
  "language_info": {
   "codemirror_mode": {
    "name": "ipython",
    "version": 3
   },
   "file_extension": ".py",
   "mimetype": "text/x-python",
   "name": "python",
   "nbconvert_exporter": "python",
   "pygments_lexer": "ipython3",
   "version": "3.8.16"
  }
 },
 "nbformat": 4,
 "nbformat_minor": 5
}
