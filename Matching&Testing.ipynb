{
 "cells": [
  {
   "cell_type": "code",
   "execution_count": 1,
   "id": "eabb01ea-1514-446f-8839-9d519d184596",
   "metadata": {},
   "outputs": [],
   "source": [
    "import cv2\n",
    "import os\n",
    "import numpy as np"
   ]
  },
  {
   "cell_type": "code",
   "execution_count": 2,
   "id": "ba06994c-67b6-4d79-9b1c-0cb44b0d4cf9",
   "metadata": {},
   "outputs": [],
   "source": [
    "def load_templates(directory=\"cropped_captured_templates\"):\n",
    "    templates = {}\n",
    "    for filename in os.listdir(directory):\n",
    "        if filename.endswith(\".jpg\"):  \n",
    "            name = filename.split('.')[0]\n",
    "            img_path = os.path.join(directory, filename)\n",
    "            template = cv2.imread(img_path, cv2.IMREAD_GRAYSCALE)\n",
    "            templates[name] = template\n",
    "    return templates\n",
    "\n",
    "templates = load_templates()"
   ]
  },
  {
   "cell_type": "code",
   "execution_count": 3,
   "id": "f7db24f0-c12e-416d-883f-f82682940865",
   "metadata": {},
   "outputs": [],
   "source": [
    "def find_best_match(frame, templates):\n",
    "    gray_frame = cv2.cvtColor(frame, cv2.COLOR_BGR2GRAY)\n",
    "    best_score = 0\n",
    "    best_name = None\n",
    "    best_loc = None\n",
    "    template_size = (0, 0)  \n",
    "\n",
    "    for name, template in templates.items():\n",
    "        res = cv2.matchTemplate(gray_frame, template, cv2.TM_CCOEFF_NORMED)\n",
    "        min_val, max_val, min_loc, max_loc = cv2.minMaxLoc(res)\n",
    "        if max_val > best_score:\n",
    "            best_score = max_val\n",
    "            best_name = name\n",
    "            best_loc = max_loc\n",
    "            template_size = template.shape[::-1]  \n",
    "\n",
    "    return best_name, best_score, best_loc, template_size"
   ]
  },
  {
   "cell_type": "code",
   "execution_count": 4,
   "id": "87d73519-0330-4580-9228-d4cb1790e099",
   "metadata": {},
   "outputs": [],
   "source": [
    "def calculate_orientation(contour):\n",
    "\n",
    "    if len(contour) < 5:\n",
    "        return 0\n",
    "    (x, y), (MA, ma), angle = cv2.fitEllipse(contour)\n",
    "    return angle"
   ]
  },
  {
   "cell_type": "code",
   "execution_count": 5,
   "id": "82c1ecba-16d8-4e05-a5df-f9e637b2cecc",
   "metadata": {},
   "outputs": [],
   "source": [
    "templates = load_templates()\n",
    "\n",
    "cap = cv2.VideoCapture(0)\n",
    "\n",
    "frame_history = []"
   ]
  },
  {
   "cell_type": "code",
   "execution_count": 6,
   "id": "1035e338-1561-445f-851a-250ec8e7ea24",
   "metadata": {},
   "outputs": [],
   "source": [
    "while True:\n",
    "    ret, frame = cap.read()\n",
    "    if not ret:\n",
    "        break\n",
    "    \n",
    "    gray_frame = cv2.cvtColor(frame, cv2.COLOR_BGR2GRAY)\n",
    "\n",
    " \n",
    "    if len(frame_history) > 10:  # Using the last 10 frames\n",
    "        frame_history.pop(0)\n",
    "    frame_history.append(gray_frame)\n",
    "    \n",
    "    # Calculation of the motion energy template\n",
    "    if len(frame_history) == 10:\n",
    "        motion_energy = np.zeros_like(gray_frame)\n",
    "        for i in range(1, 10):\n",
    "            motion_energy += cv2.absdiff(frame_history[i], frame_history[i-1])\n",
    "        motion_energy = cv2.threshold(motion_energy, 50, 255, cv2.THRESH_BINARY)[1]\n",
    "\n",
    "        # Finding contours in the motion energy image\n",
    "        contours, _ = cv2.findContours(motion_energy, cv2.RETR_EXTERNAL, cv2.CHAIN_APPROX_SIMPLE)\n",
    "        for contour in contours:\n",
    "            # Calculation of the size and position of bounding box\n",
    "            x, y, w, h = cv2.boundingRect(contour)\n",
    "            cv2.rectangle(frame, (x, y), (x+w, y+h), (255, 0, 0), 2)\n",
    "            \n",
    "            # Calculation of the orientation\n",
    "            angle = calculate_orientation(contour)\n",
    "            cv2.putText(frame, f'Angle: {angle:.2f}', (x, y - 10), cv2.FONT_HERSHEY_SIMPLEX, 0.5, (255, 0, 0), 1)\n",
    "    \n",
    "\n",
    "    best_match, score, loc, size = find_best_match(frame, templates)\n",
    "    \n",
    "    if score > 0.7:  \n",
    "        # Drawing bounding box around the best match\n",
    "        top_left = loc\n",
    "        bottom_right = (top_left[0] + size[0], top_left[1] + size[1])\n",
    "        cv2.rectangle(frame, top_left, bottom_right, (0, 255, 0), 2)\n",
    "\n",
    "        cv2.putText(frame, f'Match: {best_match}, Score: {score:.2f}', (10, 50), cv2.FONT_HERSHEY_SIMPLEX, 0.5, (0, 255, 0), 1)\n",
    "    \n",
    "    cv2.imshow(\"Real-time Template Matching\", frame)\n",
    "    \n",
    "    if cv2.waitKey(1) & 0xFF == ord('q'):\n",
    "        break\n",
    "\n",
    "cap.release()\n",
    "cv2.destroyAllWindows()"
   ]
  }
 ],
 "metadata": {
  "kernelspec": {
   "display_name": "Python 3 (ipykernel)",
   "language": "python",
   "name": "python3"
  },
  "language_info": {
   "codemirror_mode": {
    "name": "ipython",
    "version": 3
   },
   "file_extension": ".py",
   "mimetype": "text/x-python",
   "name": "python",
   "nbconvert_exporter": "python",
   "pygments_lexer": "ipython3",
   "version": "3.8.16"
  }
 },
 "nbformat": 4,
 "nbformat_minor": 5
}
